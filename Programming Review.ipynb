{
  "nbformat": 4,
  "nbformat_minor": 0,
  "metadata": {
    "colab": {
      "provenance": [],
      "authorship_tag": "ABX9TyMS+jHMaLP/hQFPhdom4kJN",
      "include_colab_link": true
    },
    "kernelspec": {
      "name": "python3",
      "display_name": "Python 3"
    },
    "language_info": {
      "name": "python"
    }
  },
  "cells": [
    {
      "cell_type": "markdown",
      "metadata": {
        "id": "view-in-github",
        "colab_type": "text"
      },
      "source": [
        "<a href=\"https://colab.research.google.com/github/jac7az/programming/blob/main/Programming%20Review.ipynb\" target=\"_parent\"><img src=\"https://colab.research.google.com/assets/colab-badge.svg\" alt=\"Open In Colab\"/></a>"
      ]
    },
    {
      "cell_type": "code",
      "execution_count": null,
      "metadata": {
        "id": "K-0FWBlEJ1em"
      },
      "outputs": [],
      "source": []
    },
    {
      "cell_type": "markdown",
      "source": [
        "[Jobs Spreadsheet](https://docs.google.com/spreadsheets/d/14lPNaDKOdeYb8XpTjhq01L0f8fRdu1gdwT99dhU1YwI/edit?usp=sharing)\n",
        "\n",
        "Do any of your findings surprise you?\n",
        "\n",
        "First, I was surprised that the average salary for mechanical engineers was so low in 2023, only about $64,000. Many of these jobs don’t require work experience from a related field. Whenever I hear about getting a job, I always hear that employers only hire people with many years of work experience. Perhaps these jobs technically don’t need prior experience, but the standards are higher because of how competitive the job market is. Despite not needing work experience in a related occupation, almost none of these jobs offer on-the-job training. I assume it’s because a degree is required, but it gives me the impression that people should be able to handle the job well enough right at the start, which I do not believe is true.\n",
        "\n",
        "\n",
        "Rank the jobs you picked from best to worst, and briefly explain why you did so.\n",
        "\n",
        "1. Computer and Information Research Scientists\n",
        "2. Information Security Analysts\n",
        "3. Database Administrators and Architects\n",
        "4. Data Scientist\n",
        "5. Postsecondary Teachers\n",
        "6. Athletes and Sports Competitors\n",
        "7. High School Teachers\n",
        "8. Mechanical Engineers\n",
        "9. Coaches and Scouts\n",
        "\n",
        "I sorted the jobs based on the 2023 Median Pay Per Year because that is the first thing I look for when considering the direction of jobs I want. I prioritize higher pay for financial stability before I can pursue other things I want like hobbies.\n"
      ],
      "metadata": {
        "id": "twYMAedfJ6Y-"
      }
    },
    {
      "cell_type": "code",
      "source": [
        "#Q3\n",
        "import numpy as np\n",
        "import math as math\n",
        "np.random.seed(100) # Set the seed for the random number generator\n",
        "rho, sigma_x, sigma_y = -.4, 3, 2 # Variance-Covariance Parameters\n",
        "vcv = np.array([[sigma_x**2, rho*sigma_x*sigma_y],\n",
        "                [rho*sigma_x*sigma_y,sigma_y**2]]) # VCV Matrix\n",
        "mu = np.array([-1,2]) # Population averages\n",
        "sample = np.random.multivariate_normal(mu,vcv,200) # Multivariate normal draws\n",
        "x = sample[:,0]\n",
        "y = sample[:,1]\n",
        "\n",
        "def mean(x):\n",
        "  return np.sum(x)/len(x)\n",
        "def sd(x):\n",
        "  xmean=mean(x)\n",
        "  return np.sqrt(np.sum((x-xmean)**2)/(len(x)-1))\n",
        "def zscore(x):\n",
        "  xmean=mean(x)\n",
        "  xsd=sd(x)\n",
        "  return (x-xmean)/xsd\n",
        "\n",
        "def cov(x,y):\n",
        "  if len(x)==len(y):\n",
        "    xmean=x-mean(x)\n",
        "    ymean=y-mean(y)\n",
        "    return np.sum(xmean*ymean)/(len(x)-1)\n",
        "  else:\n",
        "    return \"Invalid\"\n",
        "\n",
        "def r(x,y):\n",
        "  if len(x)==len(y):\n",
        "    xsd=sd(x)\n",
        "    ysd=sd(y)\n",
        "    return cov(x,y)/(xsd*ysd)\n",
        "  else:\n",
        "    return \"Invalid\"\n",
        "r(x,y)"
      ],
      "metadata": {
        "colab": {
          "base_uri": "https://localhost:8080/"
        },
        "id": "xD_YWxbvKhXk",
        "outputId": "b2b4a8d9-406e-4211-d27e-3202a49cc076"
      },
      "execution_count": 40,
      "outputs": [
        {
          "output_type": "stream",
          "name": "stdout",
          "text": [
            "2.8668892083654165\n"
          ]
        },
        {
          "output_type": "execute_result",
          "data": {
            "text/plain": [
              "-0.31962705274370357"
            ]
          },
          "metadata": {},
          "execution_count": 40
        }
      ]
    }
  ]
}